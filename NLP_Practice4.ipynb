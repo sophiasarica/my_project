{
 "cells": [
  {
   "cell_type": "markdown",
   "id": "0f021f9b",
   "metadata": {},
   "source": [
    "#### 1. Replace special characters with empty spaces. You can use regex or any other method"
   ]
  },
  {
   "cell_type": "code",
   "execution_count": 1,
   "id": "dd97b4eb",
   "metadata": {},
   "outputs": [
    {
     "data": {
      "text/plain": [
       "'The larger Broncos will be available with 35 inch off road tires and will be able\\nto drive through water nearly 3 feet  10 inches deep  It has independent front suspension  unlike its main competitor  the Jeep Wrangler  Independent suspension  used\\non almost all modern passenger vehicles  generally provides a smoother ride and better on  \\nroad handling than a single solid axle  It still has a solid axle in the back though  like most\\npickup trucks  a design suited to hard use  Like the Wrangler  both the two  and four door\\nBronco will have a removable roofs and doors  Buyers will be able to choose either a hard\\nroof that can be removed in sections  a cloth top  or both  Unlike the Wrangler  though  the\\nBronco s doors will fit inside the vehicle after being removed  The Bronco will be available\\nwith a choice of either a 10 speed automatic or seven speed manual transmission   The\\nmanual transmission will have six gears for ordinary driving  plus a seventh for low speed\\noff road driving   It will be powered by either a 270  horsepower 2 3 liter turbocharged 4 \\ncylinder engine or a 310 horsepower 2 7 liter turbocharged V6  While all of the new Bronco\\nSUVs are designed for hard off road use  the Bronco Sport isn t quite as hard core in its\\ncapabilities  It also has more convenience features than the more truck like Bronco  While\\nit s based on engineering that s similar to car like crossover SUVs  Ford says that it s still\\nintended for serious off road use  Ford engineers boasted of the off road testing the\\nprototypes have been put through  including driving through deep sand  up steep inclines  \\nand crawling across boulder strewn trails '"
      ]
     },
     "execution_count": 1,
     "metadata": {},
     "output_type": "execute_result"
    }
   ],
   "source": [
    "import re\n",
    "\n",
    "text = \"\"\"The larger Broncos will be available with 35-inch off-road tires and will be able\n",
    "to drive through water nearly 3 feet, 10 inches deep. It has independent front suspension, unlike its main competitor, the Jeep Wrangler. Independent suspension, used\n",
    "on almost all modern passenger vehicles, generally provides a smoother ride and better on -\n",
    "road handling than a single solid axle. It still has a solid axle in the back though, like most\n",
    "pickup trucks, a design suited to hard use. Like the Wrangler, both the two- and four-door\n",
    "Bronco will have a removable roofs and doors. Buyers will be able to choose either a hard\n",
    "roof that can be removed in sections, a cloth top, or both. Unlike the Wrangler, though, the\n",
    "Bronco's doors will fit inside the vehicle after being removed. The Bronco will be available\n",
    "with a choice of either a 10-speed automatic or seven-speed manual transmission. (The\n",
    "manual transmission will have six gears for ordinary driving, plus a seventh for low speed\n",
    "off-road driving.) It will be powered by either a 270- horsepower 2.3-liter turbocharged 4-\n",
    "cylinder engine or a 310-horsepower 2.7-liter turbocharged V6. While all of the new Bronco\n",
    "SUVs are designed for hard off-road use, the Bronco Sport isn't quite as hard-core in its\n",
    "capabilities. It also has more convenience features than the more truck-like Bronco. While\n",
    "it's based on engineering that's similar to car-like crossover SUVs, Ford says that it's still\n",
    "intended for serious off-road use. Ford engineers boasted of the off-road testing the\n",
    "prototypes have been put through, including driving through deep sand, up steep inclines ,\n",
    "and crawling across boulder-strewn trails.\"\"\"\n",
    "\n",
    "# Replace special characters with empty spaces using regex\n",
    "cleaned_text = re.sub(r\"[^\\w\\s]\", \" \", text)\n",
    "\n",
    "cleaned_text\n"
   ]
  },
  {
   "cell_type": "markdown",
   "id": "4f97467e",
   "metadata": {},
   "source": [
    "#### 2. Remove multiple empty spaces and replace them with a single space"
   ]
  },
  {
   "cell_type": "code",
   "execution_count": 2,
   "id": "befdcbcc",
   "metadata": {},
   "outputs": [
    {
     "data": {
      "text/plain": [
       "'The larger Broncos will be available with 35 inch off road tires and will be able to drive through water nearly 3 feet 10 inches deep It has independent front suspension unlike its main competitor the Jeep Wrangler Independent suspension used on almost all modern passenger vehicles generally provides a smoother ride and better on road handling than a single solid axle It still has a solid axle in the back though like most pickup trucks a design suited to hard use Like the Wrangler both the two and four door Bronco will have a removable roofs and doors Buyers will be able to choose either a hard roof that can be removed in sections a cloth top or both Unlike the Wrangler though the Bronco s doors will fit inside the vehicle after being removed The Bronco will be available with a choice of either a 10 speed automatic or seven speed manual transmission The manual transmission will have six gears for ordinary driving plus a seventh for low speed off road driving It will be powered by either a 270 horsepower 2 3 liter turbocharged 4 cylinder engine or a 310 horsepower 2 7 liter turbocharged V6 While all of the new Bronco SUVs are designed for hard off road use the Bronco Sport isn t quite as hard core in its capabilities It also has more convenience features than the more truck like Bronco While it s based on engineering that s similar to car like crossover SUVs Ford says that it s still intended for serious off road use Ford engineers boasted of the off road testing the prototypes have been put through including driving through deep sand up steep inclines and crawling across boulder strewn trails '"
      ]
     },
     "execution_count": 2,
     "metadata": {},
     "output_type": "execute_result"
    }
   ],
   "source": [
    "# Remove multiple spaces and replace them with a single space\n",
    "single_space_text = re.sub(r'\\s+', ' ', cleaned_text)\n",
    "\n",
    "single_space_text\n"
   ]
  },
  {
   "cell_type": "markdown",
   "id": "f4da9bdb",
   "metadata": {},
   "source": [
    "#### 3. Remove any single character"
   ]
  },
  {
   "cell_type": "code",
   "execution_count": 3,
   "id": "80eea981",
   "metadata": {},
   "outputs": [
    {
     "data": {
      "text/plain": [
       "'The larger Broncos will be available with 35 inch off road tires and will be able to drive through water nearly feet 10 inches deep It has independent front suspension unlike its main competitor the Jeep Wrangler Independent suspension used on almost all modern passenger vehicles generally provides a smoother ride and better on road handling than a single solid axle It still has a solid axle in the back though like most pickup trucks a design suited to hard use Like the Wrangler both the two and four door Bronco will have a removable roofs and doors Buyers will be able to choose either a hard roof that can be removed in sections a cloth top or both Unlike the Wrangler though the Bronco doors will fit inside the vehicle after being removed The Bronco will be available with a choice of either a 10 speed automatic or seven speed manual transmission The manual transmission will have six gears for ordinary driving plus a seventh for low speed off road driving It will be powered by either a 270 horsepower liter turbocharged cylinder engine or a 310 horsepower liter turbocharged V6 While all of the new Bronco SUVs are designed for hard off road use the Bronco Sport isn quite as hard core in its capabilities It also has more convenience features than the more truck like Bronco While it based on engineering that similar to car like crossover SUVs Ford says that it still intended for serious off road use Ford engineers boasted of the off road testing the prototypes have been put through including driving through deep sand up steep inclines and crawling across boulder strewn trails '"
      ]
     },
     "execution_count": 3,
     "metadata": {},
     "output_type": "execute_result"
    }
   ],
   "source": [
    "# Remove any single character except for 'a' and 'I' \n",
    "no_single_char_text = re.sub(r'\\b[^aI\\s]\\b', '', single_space_text)\n",
    "\n",
    "# Remove extra spaces again after removing single characters\n",
    "no_single_char_text = re.sub(r'\\s+', ' ', no_single_char_text)\n",
    "\n",
    "no_single_char_text\n"
   ]
  },
  {
   "cell_type": "markdown",
   "id": "ec7f2683",
   "metadata": {},
   "source": [
    "#### 4. Convert the text to all lowercase"
   ]
  },
  {
   "cell_type": "code",
   "execution_count": 4,
   "id": "24c03449",
   "metadata": {},
   "outputs": [
    {
     "data": {
      "text/plain": [
       "'the larger broncos will be available with 35 inch off road tires and will be able to drive through water nearly feet 10 inches deep it has independent front suspension unlike its main competitor the jeep wrangler independent suspension used on almost all modern passenger vehicles generally provides a smoother ride and better on road handling than a single solid axle it still has a solid axle in the back though like most pickup trucks a design suited to hard use like the wrangler both the two and four door bronco will have a removable roofs and doors buyers will be able to choose either a hard roof that can be removed in sections a cloth top or both unlike the wrangler though the bronco doors will fit inside the vehicle after being removed the bronco will be available with a choice of either a 10 speed automatic or seven speed manual transmission the manual transmission will have six gears for ordinary driving plus a seventh for low speed off road driving it will be powered by either a 270 horsepower liter turbocharged cylinder engine or a 310 horsepower liter turbocharged v6 while all of the new bronco suvs are designed for hard off road use the bronco sport isn quite as hard core in its capabilities it also has more convenience features than the more truck like bronco while it based on engineering that similar to car like crossover suvs ford says that it still intended for serious off road use ford engineers boasted of the off road testing the prototypes have been put through including driving through deep sand up steep inclines and crawling across boulder strewn trails '"
      ]
     },
     "execution_count": 4,
     "metadata": {},
     "output_type": "execute_result"
    }
   ],
   "source": [
    "# Convert the text to all lowercase\n",
    "lowercase_text = no_single_char_text.lower()\n",
    "\n",
    "lowercase_text\n"
   ]
  },
  {
   "cell_type": "markdown",
   "id": "26c7a63d",
   "metadata": {},
   "source": [
    "#### 5. Split the text into individual words"
   ]
  },
  {
   "cell_type": "code",
   "execution_count": 18,
   "id": "ce926ed2",
   "metadata": {},
   "outputs": [
    {
     "data": {
      "text/plain": [
       "['the',\n",
       " 'larger',\n",
       " 'broncos',\n",
       " 'will',\n",
       " 'be',\n",
       " 'available',\n",
       " 'with',\n",
       " '35',\n",
       " 'inch',\n",
       " 'off',\n",
       " 'road',\n",
       " 'tires',\n",
       " 'and',\n",
       " 'will',\n",
       " 'be',\n",
       " 'able',\n",
       " 'to',\n",
       " 'drive',\n",
       " 'through',\n",
       " 'water']"
      ]
     },
     "execution_count": 18,
     "metadata": {},
     "output_type": "execute_result"
    }
   ],
   "source": [
    "# Split the text into individual words\n",
    "words = lowercase_text.split()\n",
    "\n",
    "words[:20]  \n"
   ]
  },
  {
   "cell_type": "markdown",
   "id": "685886db",
   "metadata": {},
   "source": [
    "#### 6. Remove stopwords"
   ]
  },
  {
   "cell_type": "code",
   "execution_count": 17,
   "id": "528a17a0",
   "metadata": {},
   "outputs": [
    {
     "name": "stderr",
     "output_type": "stream",
     "text": [
      "[nltk_data] Downloading package stopwords to\n",
      "[nltk_data]     /Users/sophiasarica/nltk_data...\n",
      "[nltk_data]   Package stopwords is already up-to-date!\n"
     ]
    },
    {
     "data": {
      "text/plain": [
       "['larger',\n",
       " 'broncos',\n",
       " 'available',\n",
       " '35',\n",
       " 'inch',\n",
       " 'road',\n",
       " 'tires',\n",
       " 'able',\n",
       " 'drive',\n",
       " 'water',\n",
       " 'nearly',\n",
       " 'feet',\n",
       " '10',\n",
       " 'inches',\n",
       " 'deep',\n",
       " 'independent',\n",
       " 'front',\n",
       " 'suspension',\n",
       " 'unlike',\n",
       " 'main']"
      ]
     },
     "execution_count": 17,
     "metadata": {},
     "output_type": "execute_result"
    }
   ],
   "source": [
    "from nltk.corpus import stopwords\n",
    "import nltk\n",
    "\n",
    "# Download NLTK stopwords \n",
    "nltk.download('stopwords')\n",
    "\n",
    "# Load English stopwords\n",
    "stop_words = set(stopwords.words('english'))\n",
    "\n",
    "# Remove stopwords from the list of words\n",
    "filtered_words = [word for word in words if word not in stop_words]\n",
    "\n",
    "filtered_words[:20]  # Display the first 10 words after removing stopwords\n"
   ]
  },
  {
   "cell_type": "markdown",
   "id": "747cf517",
   "metadata": {},
   "source": [
    "#### 7. Tokenize, stem, and lemmatize the text"
   ]
  },
  {
   "cell_type": "code",
   "execution_count": 37,
   "id": "d387da06",
   "metadata": {},
   "outputs": [
    {
     "data": {
      "text/plain": [
       "['larger',\n",
       " 'bronco',\n",
       " 'avail',\n",
       " '35',\n",
       " 'inch',\n",
       " 'road',\n",
       " 'tire',\n",
       " 'abl',\n",
       " 'drive',\n",
       " 'water']"
      ]
     },
     "execution_count": 37,
     "metadata": {},
     "output_type": "execute_result"
    }
   ],
   "source": [
    "# Perform stemming\n",
    "stemmed_words_nltk = [stemmer.stem(word) for word in filtered_words]\n",
    "\n",
    "# Perform lemmatization\n",
    "lemmatized_words_nltk = [lemmatizer.lemmatize(word) for word in stemmed_words_nltk]\n",
    "\n",
    "(lemmatized_words_nltk[:10])"
   ]
  },
  {
   "cell_type": "code",
   "execution_count": 28,
   "id": "137d0f53",
   "metadata": {},
   "outputs": [],
   "source": [
    "#stemmed_words_nltk"
   ]
  },
  {
   "cell_type": "code",
   "execution_count": 29,
   "id": "1847f22f",
   "metadata": {},
   "outputs": [],
   "source": [
    "#lemmatized_words_nltk"
   ]
  },
  {
   "cell_type": "code",
   "execution_count": 30,
   "id": "32e75d5b",
   "metadata": {},
   "outputs": [],
   "source": [
    "#(stemmed_words_nltk, lemmatized_words_nltk)\n",
    "\n"
   ]
  },
  {
   "cell_type": "code",
   "execution_count": 38,
   "id": "65817772",
   "metadata": {},
   "outputs": [
    {
     "name": "stdout",
     "output_type": "stream",
     "text": [
      "larger bronco avail 35 inch road tire abl drive water nearli foot 10 inch deep independ front suspens unlik main competitor jeep wrangler independ suspens use almost modern passeng vehicl gener provid smoother ride better road handl singl solid axl still solid axl back though like pickup truck design suit hard use like wrangler two four door bronco remov roof door buyer abl choos either hard roof remov section cloth top unlik wrangler though bronco door fit insid vehicl remov bronco avail choic either 10 speed automat seven speed manual transmiss manual transmiss six gear ordinari drive plu seventh low speed road drive power either 270 horsepow liter turbocharg cylind engin 310 horsepow liter turbocharg v6 new bronco suv design hard road use bronco sport quit hard core capabl also conveni featur truck like bronco base engin similar car like crossov suv ford say still intend seriou road use ford engin boast road test prototyp put includ drive deep sand steep inclin crawl across boulder strewn trail\n"
     ]
    }
   ],
   "source": [
    "# Assuming stemmed_words_nltk and lemmatized_words_nltk are your lists of stemmed and lemmatized words\n",
    "words_string = ' '.join(lemmatized_words_nltk)\n",
    "\n",
    "# Now, combined_words_string contains both stemmed and lemmatized words in one single string\n",
    "print(words_string)\n"
   ]
  },
  {
   "cell_type": "code",
   "execution_count": 39,
   "id": "db0fe6d4",
   "metadata": {},
   "outputs": [
    {
     "name": "stdout",
     "output_type": "stream",
     "text": [
      "Sentiment: -0.003349282296650745, Subjectivity: 0.41339712918660293\n"
     ]
    }
   ],
   "source": [
    "from textblob import TextBlob\n",
    "\n",
    "blob = TextBlob(words_string)\n",
    "\n",
    "# Get the sentiment polarity and subjectivity\n",
    "sentiment = blob.sentiment.polarity\n",
    "subjectivity = blob.sentiment.subjectivity\n",
    "\n",
    "print(f\"Sentiment: {sentiment}, Subjectivity: {subjectivity}\")\n"
   ]
  },
  {
   "cell_type": "code",
   "execution_count": null,
   "id": "e269f348",
   "metadata": {},
   "outputs": [],
   "source": []
  },
  {
   "cell_type": "code",
   "execution_count": null,
   "id": "425b2223",
   "metadata": {},
   "outputs": [],
   "source": []
  },
  {
   "cell_type": "code",
   "execution_count": null,
   "id": "c4ae11ad",
   "metadata": {},
   "outputs": [],
   "source": []
  }
 ],
 "metadata": {
  "kernelspec": {
   "display_name": "Python 3 (ipykernel)",
   "language": "python",
   "name": "python3"
  },
  "language_info": {
   "codemirror_mode": {
    "name": "ipython",
    "version": 3
   },
   "file_extension": ".py",
   "mimetype": "text/x-python",
   "name": "python",
   "nbconvert_exporter": "python",
   "pygments_lexer": "ipython3",
   "version": "3.9.7"
  }
 },
 "nbformat": 4,
 "nbformat_minor": 5
}
