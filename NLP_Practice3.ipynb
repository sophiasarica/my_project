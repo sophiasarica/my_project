{
 "cells": [
  {
   "cell_type": "markdown",
   "id": "b7510221",
   "metadata": {},
   "source": [
    "### Exercise 2"
   ]
  },
  {
   "cell_type": "code",
   "execution_count": 1,
   "id": "94c9bb4d",
   "metadata": {},
   "outputs": [
    {
     "name": "stdout",
     "output_type": "stream",
     "text": [
      "{\n",
      "  \"usage\": {\n",
      "    \"text_units\": 1,\n",
      "    \"text_characters\": 1363,\n",
      "    \"features\": 1\n",
      "  },\n",
      "  \"sentiment\": {\n",
      "    \"document\": {\n",
      "      \"score\": -0.677186,\n",
      "      \"mixed\": \"1\",\n",
      "      \"label\": \"negative\"\n",
      "    }\n",
      "  },\n",
      "  \"language\": \"en\"\n",
      "}\n"
     ]
    }
   ],
   "source": [
    "import requests\n",
    "import json\n",
    "\n",
    "# Setting  IBM Watson NLU API credentials and endpoint\n",
    "apikey = 'qXBbo61tWIEYAPWk1fJByjbyCpfY0hZR3jNc6xvXEka9'\n",
    "url = 'https://api.us-south.natural-language-understanding.watson.cloud.ibm.com/instances/f55ba5ba-4ca9-4ec2-a47b-d72fe26d7fc3/v1/analyze?version=2019-07-12'\n",
    "\n",
    "# The provided text\n",
    "text_to_analyze = \"\"\"The United Kingdom suffered one of the worst recessions among major economies last year. Germany, for example, held up better in the pandemic than it did during the global financial crisis. Provisional estimates suggest Europe's biggest economy contracted by 5% last year. EU GDP, meanwhile, is expected to have shrunk 6.4%, according to Eurostat.\n",
    "The United States fared even better by comparison, with GDP decreasing by 3.5% from the prior year.\n",
    "\"Today's figures show that the economy has experienced a serious shock as a result of the pandemic, which has been felt by countries around the world,\" UK finance minister Rishi Sunak said in a statement. \"While there are some positive signs of the economy's resilience over the winter, we know that the current lockdown continues to have a significant impact on many people and businesses.\"\n",
    "The new national lockdown in the United Kingdom, imposed on January 5, is expected to hit the economy hard in the first quarter of 2021, reversing the return to growth in the fourth quarter of 2020.\n",
    "\"It seems that a double dip [recession] was merely delayed rather than avoided outright,\" Sam Miley, an economist at the London-based Centre for Economics and Business Research said in a note on Friday.\n",
    "Disruption to EU-UK trade following the end of the Brexit transition period on December 31 is also weighing on activity.”\"\"\"\n",
    "\n",
    "# Setup the request payload\n",
    "payload = {\n",
    "    \"text\": text_to_analyze,\n",
    "    \"features\": {\n",
    "        \"sentiment\": {}\n",
    "    }\n",
    "}\n",
    "\n",
    "# Making the POST request to the IBM Watson NLU API\n",
    "response = requests.post(url, auth=('apikey', apikey), headers={'Content-Type': 'application/json'}, data=json.dumps(payload))\n",
    "\n",
    "# Check if the request was successful and print the response\n",
    "if response.status_code == 200:\n",
    "    print(json.dumps(response.json(), indent=2))\n",
    "else:\n",
    "    print(f\"Request failed with status code {response.status_code}: {response.text}\")\n"
   ]
  },
  {
   "cell_type": "markdown",
   "id": "7d6b297b",
   "metadata": {},
   "source": [
    "The analyzed document exhibits a negative sentiment with a score of `-0.677186`, which indicates strong negative emotions. The \"mixed\" attribute, marked as `1`, suggests that the document's sentiment is complex and may contain mixed emotions or attitudes.\n",
    "\n",
    "IBM's approach to sentiment analysis primarily aims to comprehend the underlying emotions, opinions, and sentiments expressed in text data. It achieves this through advanced natural language processing (NLP) techniques and machine learning models.\n"
   ]
  },
  {
   "cell_type": "code",
   "execution_count": null,
   "id": "873fa8ee",
   "metadata": {},
   "outputs": [],
   "source": []
  }
 ],
 "metadata": {
  "kernelspec": {
   "display_name": "Python 3 (ipykernel)",
   "language": "python",
   "name": "python3"
  },
  "language_info": {
   "codemirror_mode": {
    "name": "ipython",
    "version": 3
   },
   "file_extension": ".py",
   "mimetype": "text/x-python",
   "name": "python",
   "nbconvert_exporter": "python",
   "pygments_lexer": "ipython3",
   "version": "3.9.7"
  }
 },
 "nbformat": 4,
 "nbformat_minor": 5
}
