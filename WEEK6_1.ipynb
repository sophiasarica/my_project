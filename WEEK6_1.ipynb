{
 "cells": [
  {
   "cell_type": "markdown",
   "metadata": {
    "id": "2beYTWneB0AE"
   },
   "source": [
    "Exercise 1"
   ]
  },
  {
   "cell_type": "code",
   "execution_count": 1,
   "metadata": {
    "colab": {
     "base_uri": "https://localhost:8080/"
    },
    "id": "Hgt0oSle7pe7",
    "outputId": "f0373cea-f28b-46b9-f429-8f38ec158a7b"
   },
   "outputs": [
    {
     "name": "stdout",
     "output_type": "stream",
     "text": [
      "Collecting markovify\n",
      "  Downloading markovify-0.9.4.tar.gz (27 kB)\n",
      "  Preparing metadata (setup.py) ... \u001b[?25ldone\n",
      "\u001b[?25hRequirement already satisfied: unidecode in /Users/sophiasarica/opt/anaconda3/lib/python3.9/site-packages (from markovify) (1.2.0)\n",
      "Building wheels for collected packages: markovify\n",
      "  Building wheel for markovify (setup.py) ... \u001b[?25ldone\n",
      "\u001b[?25h  Created wheel for markovify: filename=markovify-0.9.4-py3-none-any.whl size=18606 sha256=18bea49fe21024204745608fd25c66468872d0f869d339aa439e706c2a9d8a09\n",
      "  Stored in directory: /Users/sophiasarica/Library/Caches/pip/wheels/76/0a/ab/8727d219981e57e6036316dd2ec2037e61ccea0c016f7ae0c1\n",
      "Successfully built markovify\n",
      "Installing collected packages: markovify\n",
      "Successfully installed markovify-0.9.4\n"
     ]
    }
   ],
   "source": [
    "!pip install markovify\n",
    "\n"
   ]
  },
  {
   "cell_type": "code",
   "execution_count": 7,
   "metadata": {
    "id": "s13gr_yw7qA8"
   },
   "outputs": [],
   "source": [
    "import pandas as pd\n",
    "import markovify"
   ]
  },
  {
   "cell_type": "code",
   "execution_count": 9,
   "metadata": {
    "id": "ZeCu2l7e7qDy"
   },
   "outputs": [],
   "source": [
    "inp = pd.read_csv('abcnews-date-text.csv')\n",
    "\n"
   ]
  },
  {
   "cell_type": "code",
   "execution_count": 10,
   "metadata": {
    "colab": {
     "base_uri": "https://localhost:8080/",
     "height": 143
    },
    "id": "nQkN5itj7qGb",
    "outputId": "69271f21-5357-4b50-d050-2f73277a43bc"
   },
   "outputs": [
    {
     "data": {
      "text/html": [
       "<div>\n",
       "<style scoped>\n",
       "    .dataframe tbody tr th:only-of-type {\n",
       "        vertical-align: middle;\n",
       "    }\n",
       "\n",
       "    .dataframe tbody tr th {\n",
       "        vertical-align: top;\n",
       "    }\n",
       "\n",
       "    .dataframe thead th {\n",
       "        text-align: right;\n",
       "    }\n",
       "</style>\n",
       "<table border=\"1\" class=\"dataframe\">\n",
       "  <thead>\n",
       "    <tr style=\"text-align: right;\">\n",
       "      <th></th>\n",
       "      <th>publish_date</th>\n",
       "      <th>headline_text</th>\n",
       "    </tr>\n",
       "  </thead>\n",
       "  <tbody>\n",
       "    <tr>\n",
       "      <th>0</th>\n",
       "      <td>20030219</td>\n",
       "      <td>aba decides against community broadcasting lic...</td>\n",
       "    </tr>\n",
       "    <tr>\n",
       "      <th>1</th>\n",
       "      <td>20030219</td>\n",
       "      <td>act fire witnesses must be aware of defamation</td>\n",
       "    </tr>\n",
       "    <tr>\n",
       "      <th>2</th>\n",
       "      <td>20030219</td>\n",
       "      <td>a g calls for infrastructure protection summit</td>\n",
       "    </tr>\n",
       "  </tbody>\n",
       "</table>\n",
       "</div>"
      ],
      "text/plain": [
       "   publish_date                                      headline_text\n",
       "0      20030219  aba decides against community broadcasting lic...\n",
       "1      20030219     act fire witnesses must be aware of defamation\n",
       "2      20030219     a g calls for infrastructure protection summit"
      ]
     },
     "execution_count": 10,
     "metadata": {},
     "output_type": "execute_result"
    }
   ],
   "source": [
    "inp.head(3)\n"
   ]
  },
  {
   "cell_type": "code",
   "execution_count": 11,
   "metadata": {
    "id": "JNRn-a7K7qJA"
   },
   "outputs": [],
   "source": [
    "from itertools import chain\n"
   ]
  },
  {
   "cell_type": "code",
   "execution_count": 12,
   "metadata": {
    "colab": {
     "base_uri": "https://localhost:8080/"
    },
    "id": "94XRr-cL7qN8",
    "outputId": "e91be9bf-bdeb-4971-d15d-9303182e3926"
   },
   "outputs": [
    {
     "name": "stdout",
     "output_type": "stream",
     "text": [
      "18 killed in brazil on edmundos. vic bushfires inquiry begins. vic govt to send wheat to iraq. syria says us will get moral backing for force. body discovered in western nsw. dizzy on the ground. ferrero escude hobble out of mexican open. murdoch claims pay tv industry over regulated. naked rain dance to go on strike. end in rockhampton. more public access planned for boulia.\n",
      "700 quarantined in fremantle after showing sars. two us soldiers in iraq adf. sawmill to lock out striking workers. schu fastest in barcelona testing. democrats approve tougher welfare penalties. dengue fever cases confirmed. mp touts big fish to be discussed. councillors converge on quilpie.\n",
      "aba decides against community broadcasting licence. act fire witnesses must be caught in the eye with air rifle. tortured bangladeshi women rally in broken hill. mp highlights tourist commission woes. mp seeks ambulance levy claims. mugabe to touch down in wake of salary cap. nt govt commits 80000 for alice arts space. one arrest at sydney airport. philippines leader warns of horrifying nuclear disasters. nsw coalition promises rail boost. nsw competitions to crack over extended winter. can donations open up title race apart. rovers blow title race apart. rovers blow premiership title race robson. man injured in bomb blast. tobacco farmer faces jail over assaults. man charged with molesting murdering. adf adjusting to unconventional warfare. africas cross country defence. reds remain winless. reds remain winless. stormers stun waratahs reds hoodoo continues. war of words rages in heart. vasco win 10 goal thriller in brazil bus crash.\n",
      "69 people charged during weekend police operation. aca modifies radiation safety standards. act bushfire inquiry invites public submissions. fed govt considering missile defence crean. aust govt embarrassed by guantanamo bay prisoners returned to atsic. candidates urged to get facelift. blasts rock presidential complex in baghdad. moon ballad wins dubai world cup. stolz moves into second in spain. bayern open 10 point gap. bevan not frustrated by report delays in air. iran rejects us ultimatum on iraq. yemen chopper crash kills eight troops.\n",
      "10 year old charged with attempted murder after man burnt.\n",
      "60 dead in russian school fire. airline grows despite tough travel times. airport travellers screened for sars. wimmera ec application to be redirected to boulder. brumbies shocked waratahs win. blair welcomes mid east peace roadmap. patient phone assessments to be returned to afghanistan.\n",
      "70 year old in custody in nt almost double. kalgoorlie boulder crime rate declines. kayakers rescued after their boat caught fire. france vows to smash world mark. duck numbers wont be moved without studies gallop.\n",
      "3 adults 1 child die in refugee camp. israeli security cabinet meets after suicide. us warnings sharpen syrias iraq dilemma. us war plan is apartheid acoss. illawarra to to get hiv aids booklet. indonesia condemns howards war decision. yemeni man kills two foreigners then himself.\n",
      "24 hindus killed in industrial accident. man injured in taiwan. aussies drum up business in the eye with air rifle. tortured bangladeshi women rally in the sky wins comp for wtc site. gas fired power station planned for southern. hong kong angler makes massive cannabis catch. howard faces small protest on anzac day rally. no role for australia post saddam iraq tells us.\n",
      "8 killed in wa motorbike collision. uk warns of arms race under missile shield. plan for maroochydore.\n"
     ]
    }
   ],
   "source": [
    "import markovify\n",
    "\n",
    "N = 10000\n",
    "headline_subset = inp[\"headline_text\"][0:N]\n",
    "\n",
    "text = \". \".join(headline_subset) + \".\"\n",
    "\n",
    "# Build the model\n",
    "text_model = markovify.Text(text)\n",
    "\n",
    "for _ in range(10):\n",
    "    sentence = text_model.make_sentence(tries=300)\n",
    "    if sentence is not None:\n",
    "        print(sentence)\n",
    "    else:\n",
    "        print(\"not generated\")\n"
   ]
  },
  {
   "cell_type": "code",
   "execution_count": null,
   "metadata": {
    "id": "Ut0oWOlT7qQ0"
   },
   "outputs": [],
   "source": []
  }
 ],
 "metadata": {
  "colab": {
   "provenance": []
  },
  "kernelspec": {
   "display_name": "Python 3 (ipykernel)",
   "language": "python",
   "name": "python3"
  },
  "language_info": {
   "codemirror_mode": {
    "name": "ipython",
    "version": 3
   },
   "file_extension": ".py",
   "mimetype": "text/x-python",
   "name": "python",
   "nbconvert_exporter": "python",
   "pygments_lexer": "ipython3",
   "version": "3.9.7"
  }
 },
 "nbformat": 4,
 "nbformat_minor": 4
}
