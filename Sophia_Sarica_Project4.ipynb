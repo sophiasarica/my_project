{
  "nbformat": 4,
  "nbformat_minor": 0,
  "metadata": {
    "colab": {
      "name": "Sophia-Sarica_Project4.ipynb",
      "provenance": [],
      "collapsed_sections": [],
      "include_colab_link": true
    },
    "kernelspec": {
      "name": "python3",
      "display_name": "Python 3"
    },
    "language_info": {
      "name": "python"
    }
  },
  "cells": [
    {
      "cell_type": "markdown",
      "metadata": {
        "id": "view-in-github",
        "colab_type": "text"
      },
      "source": [
        "<a href=\"https://colab.research.google.com/github/sophiasarica/my_project/blob/main/Sophia_Sarica_Project4.ipynb\" target=\"_parent\"><img src=\"https://colab.research.google.com/assets/colab-badge.svg\" alt=\"Open In Colab\"/></a>"
      ]
    },
    {
      "cell_type": "markdown",
      "metadata": {
        "id": "oZlWDSqSten6"
      },
      "source": [
        "# Project #4:  Object-Oriented Programming\n",
        " "
      ]
    },
    {
      "cell_type": "markdown",
      "metadata": {
        "id": "IFwFSi2q4Ttj"
      },
      "source": [
        "\n",
        "\n",
        "\n",
        "In this project, we will create a very basic card game. As you might know, in a [standard deck of cards](https://en.wikipedia.org/wiki/Standard_52-card_deck) there are 52 cards. Each card belongs to one of the four suits: \"Diamonds\", \"Hearts\", \"Clubs\", \"Spades\" and each card has one of the following rank/numbers : \"2\", \"3\", \"4\", \"5\", \"6\", \"7\", \"8\", \"9\", \"10\", \"J\", \"Q\", \"K\", \"A\"."
      ]
    },
    {
      "cell_type": "markdown",
      "source": [
        "## Part- I"
      ],
      "metadata": {
        "id": "pYufySHpLP-o"
      }
    },
    {
      "cell_type": "markdown",
      "metadata": {
        "id": "-LyCNT-F5jfX"
      },
      "source": [
        "Create a class named \"Card\" and each card will be constructed with a 'suit' and a 'rank' attribute. Suits and ranks will be recorded as integers. Here is the map:\n",
        "\n",
        "Ranks: 0 --> \"2\", 1--> \"3\", ... , 8 --> \"10\", 9 --> \"J\", 10 --> Q, 11 --> \"K\", 12 --> \"A\"\n",
        "\n",
        "Suits: 0 --> \"Diamonds\", 1 --> \"Hearts\", 2 --> \"Clubs\", 3 --> \"Spades\"\n",
        "\n",
        "For example, \n",
        "\n",
        "4 of &hearts; --> suit = 1, rank = 2\n",
        "\n",
        "A of &diams; --> suit = 0, rank 12\n",
        "\n"
      ]
    },
    {
      "cell_type": "code",
      "metadata": {
        "colab": {
          "base_uri": "https://localhost:8080/"
        },
        "id": "vSaNWu9V--jO",
        "outputId": "4383e4e7-301f-40f3-ac95-540f522ea6a5"
      },
      "source": [
        "[1,2,3].index(3)"
      ],
      "execution_count": null,
      "outputs": [
        {
          "output_type": "execute_result",
          "data": {
            "text/plain": [
              "2"
            ]
          },
          "metadata": {},
          "execution_count": 2
        }
      ]
    },
    {
      "cell_type": "code",
      "metadata": {
        "id": "sKQZ-d3_vVWw"
      },
      "source": [
        "class Card:\n",
        "    suits = ['\\u2666', '\\u2665', '\\u2663', '\\u2660']  # [\"Diamonds\", \"Hearts\", \"Clubs\", \"Spades\"]\n",
        "    ranks = [\"2\", \"3\", \"4\", \"5\", \"6\", \"7\", \"8\", \"9\", \"10\", \"J\", \"Q\", \"K\", \"A\"]\n",
        "    \n",
        "    def __init__(self, rank, suit):\n",
        "        self.rank = Card.ranks.index(rank)\n",
        "        self.suit = Card.suits.index(suit)\n",
        "        # self.rank = rank\n",
        "        # self.suit = suit\n",
        "\n",
        "\n",
        "\n",
        "\n",
        "    def __str__(self):\n",
        "        \"\"\"Returns a human-readable string representation \"\"\"\n",
        "        return '%s%s' % (Card.suits[self.suit], Card.ranks[self.rank])\n",
        "        # return '%s of %s' % (Card.rank_names[self.rank], Card.suit_names[self.suit])\n"
      ],
      "execution_count": null,
      "outputs": []
    },
    {
      "cell_type": "markdown",
      "source": [
        "## Part- II"
      ],
      "metadata": {
        "id": "wwhPe7D_LLnJ"
      }
    },
    {
      "cell_type": "markdown",
      "metadata": {
        "id": "kMwiSnOtvYQV"
      },
      "source": [
        "Instantiate two card objects with names\" `card1` and `card2`.\n",
        "\n",
        " `card1` will be an 'Ace of diamonds' and `card2` will be '4 of hearts'.\n"
      ]
    },
    {
      "cell_type": "code",
      "metadata": {
        "id": "O5_Z3I4Hv-Wd",
        "colab": {
          "base_uri": "https://localhost:8080/"
        },
        "outputId": "12510979-03e5-4a09-fbc2-becee4548d90"
      },
      "source": [
        "card1 = Card(\"A\", '\\u2666')\n",
        "\n",
        "print(card1)\n",
        "\n",
        "card2 = Card(\"4\",  '\\u2665')\n",
        "\n",
        "print(card2)\n",
        "# card1.rank"
      ],
      "execution_count": null,
      "outputs": [
        {
          "output_type": "stream",
          "name": "stdout",
          "text": [
            "♦A\n",
            "♥4\n"
          ]
        }
      ]
    },
    {
      "cell_type": "markdown",
      "metadata": {
        "id": "o54J_WsQSlqJ"
      },
      "source": [
        "## Part- III"
      ]
    },
    {
      "cell_type": "markdown",
      "metadata": {
        "id": "S4AGjM52v_Iy"
      },
      "source": [
        "Create a new class with the name `Deck`. This class will create an object when instantiated that will represent a deck of cards. "
      ]
    },
    {
      "cell_type": "markdown",
      "metadata": {
        "id": "U4HG2whlxIj7"
      },
      "source": [
        "\n",
        "- During the initialization we will not pass anything to the constructor.\n",
        "\n",
        "- Each `Deck` object will have an attribute called `cards` and this will be a Python list that contains `Card` objects. In other words, `cards` attribute will contain 52 `Card` objects and each corresponds to a different card of a standard deck."
      ]
    },
    {
      "cell_type": "code",
      "metadata": {
        "id": "ErMl6rnjxcoa"
      },
      "source": [
        "class Deck():\n",
        "    def __init__(self):\n",
        "      self.cards = []\n",
        "\n",
        "      for suit in Card.suits:\n",
        "        for rank in Card.ranks:\n",
        "          card = Card(rank, suit)\n",
        "          self.cards.append(card)\n",
        "\n"
      ],
      "execution_count": null,
      "outputs": []
    },
    {
      "cell_type": "code",
      "metadata": {
        "id": "gheP23wEBVKw",
        "colab": {
          "base_uri": "https://localhost:8080/"
        },
        "outputId": "69d09ad7-757b-4b85-d09f-25b43cfd4777"
      },
      "source": [
        "deck1 = Deck()\n",
        "for card in deck1.cards:\n",
        "  print(card, end = \"|\")"
      ],
      "execution_count": null,
      "outputs": [
        {
          "output_type": "stream",
          "name": "stdout",
          "text": [
            "♦2|♦3|♦4|♦5|♦6|♦7|♦8|♦9|♦10|♦J|♦Q|♦K|♦A|♥2|♥3|♥4|♥5|♥6|♥7|♥8|♥9|♥10|♥J|♥Q|♥K|♥A|♣2|♣3|♣4|♣5|♣6|♣7|♣8|♣9|♣10|♣J|♣Q|♣K|♣A|♠2|♠3|♠4|♠5|♠6|♠7|♠8|♠9|♠10|♠J|♠Q|♠K|♠A|"
          ]
        }
      ]
    },
    {
      "cell_type": "markdown",
      "metadata": {
        "id": "9udPECl2TGI6"
      },
      "source": [
        "## Part- IV"
      ]
    },
    {
      "cell_type": "markdown",
      "metadata": {
        "id": "aF_To7rzBaAk"
      },
      "source": [
        "Copy and paste your `Deck` class. Then define the following methods:\n",
        "\n",
        "- `shuffle` method: This method will take a `deck` object and will shuffle the cards in the deck. Hint: You can use `shuffle` method from `random` library. [Here is an example of how to use of the random.shuffle method](https://www.w3schools.com/python/ref_random_shuffle.asp).\n",
        "\n",
        "- `pop_card`: This will remove the top card from the deck (Here top card is represented by the last item in `deck.cards` list). Make sure that this method returns the removed card as we will need it later on. Hint: You can use `pop` method of the `list` objects. [Use of .pop method: Check example 2](https://www.programiz.com/python-programming/methods/list/pop)\n",
        "\n",
        "- `deal_cards`: This method will take a deck object and an integer (`n`) as an argument. When this method is called,  the top `n` cards from the deck will be returned.\n",
        "Below you will see an example of how your code should work.\n",
        "\n",
        "\n"
      ]
    },
    {
      "cell_type": "code",
      "metadata": {
        "id": "3qA0DNLjFH7L"
      },
      "source": [
        "import random\n",
        "\n",
        "#### IMPORTANT ####\n",
        "#### Copy and paste your Deck class you defined in the previous question here first\n",
        "\n",
        "\n",
        "class Deck():\n",
        "    def __init__(self):\n",
        "      self.cards = []\n",
        "\n",
        "      for suit in Card.suits:\n",
        "        for rank in Card.ranks:\n",
        "          card = Card(rank, suit)\n",
        "          self.cards.append(card)\n",
        "\n",
        "\n",
        "######### copy and paste Deck class above ###########\n",
        "\n",
        "\n",
        "## Define shuffle method below\n",
        "    def shuffle(self):\n",
        "      random.shuffle(self.cards)\n",
        "\n",
        "## define pop_card method below\n",
        "    def pop_card(self):\n",
        "      return self.cards.pop();\n",
        "\n",
        "## define deal_cards method below\n",
        "    def deal_cards(self, n = 5):\n",
        "      cards = []\n",
        "      for i in range(n):\n",
        "        cards.append(self.pop_card())\n",
        "      \n",
        "      return cards"
      ],
      "execution_count": null,
      "outputs": []
    },
    {
      "cell_type": "code",
      "metadata": {
        "id": "JIJ0gwOPFrf-",
        "colab": {
          "base_uri": "https://localhost:8080/"
        },
        "outputId": "f1e7fa19-77f9-4923-eb25-99f4b9489943"
      },
      "source": [
        "deck1 = Deck()\n",
        "deck1.shuffle()\n",
        "for card in deck1.cards:\n",
        "  print(card, end = \"|\")"
      ],
      "execution_count": null,
      "outputs": [
        {
          "output_type": "stream",
          "name": "stdout",
          "text": [
            "♦5|♠7|♣10|♦8|♠Q|♠3|♣2|♥A|♥10|♠5|♣K|♣5|♦3|♦4|♠K|♠A|♣9|♠9|♦2|♣7|♥8|♣J|♦10|♠4|♦K|♣A|♣4|♦A|♥Q|♣6|♦J|♥5|♥4|♥2|♠J|♦Q|♣8|♦9|♦6|♠2|♥J|♣Q|♠6|♥3|♣3|♦7|♠8|♠10|♥K|♥6|♥7|♥9|"
          ]
        }
      ]
    },
    {
      "cell_type": "code",
      "metadata": {
        "id": "VvGLF520K7If",
        "colab": {
          "base_uri": "https://localhost:8080/"
        },
        "outputId": "6c4c666b-c7a8-4709-bd0c-d5073fa6314e"
      },
      "source": [
        "deck1 = Deck()\n",
        "deck1.shuffle()\n",
        "\n",
        "print(\"Number of cards originally: \", len(deck1.cards))\n",
        "print(\"A card removed:\", deck1.pop_card())\n",
        "print(\"Number of cards remaining in the deck: \", len(deck1.cards))"
      ],
      "execution_count": null,
      "outputs": [
        {
          "output_type": "stream",
          "name": "stdout",
          "text": [
            "Number of cards originally:  52\n",
            "A card removed: ♠4\n",
            "Number of cards remaining in the deck:  51\n"
          ]
        }
      ]
    },
    {
      "cell_type": "code",
      "metadata": {
        "id": "WxgoPH4hSHYt",
        "colab": {
          "base_uri": "https://localhost:8080/"
        },
        "outputId": "a1cf66fa-5b88-4ab1-a53f-1dba39fe9f47"
      },
      "source": [
        "deck1 = Deck()\n",
        "deck1.shuffle()\n",
        "for card in deck1.deal_cards(n = 5):\n",
        "  print(card, len(deck1.cards))\n"
      ],
      "execution_count": null,
      "outputs": [
        {
          "output_type": "stream",
          "name": "stdout",
          "text": [
            "♣A 47\n",
            "♦5 47\n",
            "♣10 47\n",
            "♥9 47\n",
            "♠10 47\n"
          ]
        }
      ]
    },
    {
      "cell_type": "markdown",
      "metadata": {
        "id": "HfxXVxq2VR6e"
      },
      "source": [
        "## Part- V"
      ]
    },
    {
      "cell_type": "markdown",
      "metadata": {
        "id": "ZnGWRXo4Fz0p"
      },
      "source": [
        "Define a new class `Hand` and this class will be the subclass of the `Deck` class. This will represent the hand of a player.\n",
        "\n",
        "1. Constructor method:\n",
        "\n",
        "- Each `hand` object will have a `name` attribute that represents the player's name who is playing the hand.\n",
        "\n",
        "- Each `hand` object will be constructed with a `deck` object and this object will be kept as an attribute. \n",
        "\n",
        "- Each `hand` object will have a `cards` attribute that represents the cards in this particular hand. This attribute will be created from the `deck` object by using `deal_cards` method. Constructor will take `num_cards` as its input.\n",
        "\n",
        "2. `play` method: This method will drop a card from the hand and draw a card from the top of the `deck`."
      ]
    },
    {
      "cell_type": "code",
      "metadata": {
        "id": "qRMXWm6JF2fJ"
      },
      "source": [
        "class Hand(Deck):\n",
        "  def __init__(self, name , deck, num_cards = 5):\n",
        "    self.name = name\n",
        "    self.deck = deck\n",
        "    \n",
        "    cards = deck.deal_cards(num_cards)\n",
        "    self.cards = cards\n",
        "\n",
        "  def play(self):\n",
        "    dropped_card = self.cards.pop()\n",
        "    \n",
        "    new_card = self.deck.pop_card()\n",
        "    self.cards.append(new_card)\n",
        "    return dropped_card, new_card\n",
        "\n"
      ],
      "execution_count": null,
      "outputs": []
    },
    {
      "cell_type": "code",
      "metadata": {
        "id": "zKuknkHnJj4k",
        "colab": {
          "base_uri": "https://localhost:8080/"
        },
        "outputId": "1f65880e-d797-4b31-d472-7135304532a8"
      },
      "source": [
        "deck1 = Deck()\n",
        "print(len(deck1.cards))\n",
        "hand1 = Hand(name = 'Player1', deck = deck1, num_cards = 5)\n",
        "hand2 = Hand(name = 'Player2', deck = deck1, num_cards = 5)\n",
        "len(deck1.cards)"
      ],
      "execution_count": null,
      "outputs": [
        {
          "output_type": "stream",
          "name": "stdout",
          "text": [
            "52\n"
          ]
        },
        {
          "output_type": "execute_result",
          "data": {
            "text/plain": [
              "42"
            ]
          },
          "metadata": {},
          "execution_count": 12
        }
      ]
    },
    {
      "cell_type": "code",
      "metadata": {
        "id": "98pC2W92P1yP",
        "colab": {
          "base_uri": "https://localhost:8080/"
        },
        "outputId": "c7a68250-13da-4b86-951e-ee775346653a"
      },
      "source": [
        "## The cards in player1's hand initially\n",
        "\n",
        "for card in hand1.cards:\n",
        "  print(card, end = \",\")"
      ],
      "execution_count": null,
      "outputs": [
        {
          "output_type": "stream",
          "name": "stdout",
          "text": [
            "♠A,♠K,♠Q,♠J,♠10,"
          ]
        }
      ]
    },
    {
      "cell_type": "code",
      "metadata": {
        "id": "4kDjg5vyYjuZ",
        "colab": {
          "base_uri": "https://localhost:8080/"
        },
        "outputId": "fbaae21d-eec7-4b1e-bf8e-b5884687d2b2"
      },
      "source": [
        "## play method\n",
        "\n",
        "dropped_card, drawn_card = hand1.play()\n",
        "\n",
        "print(\"Dropped Card: \", dropped_card, \"\\nNew Card Drawn:\",  drawn_card)\n",
        "print(\"New hand after play:\")\n",
        "for card in hand1.cards:\n",
        "  print(card, end = \"|\")"
      ],
      "execution_count": null,
      "outputs": [
        {
          "output_type": "stream",
          "name": "stdout",
          "text": [
            "Dropped Card:  ♠10 \n",
            "New Card Drawn: ♠4\n",
            "New hand after play:\n",
            "♠A|♠K|♠Q|♠J|♠4|"
          ]
        }
      ]
    },
    {
      "cell_type": "code",
      "metadata": {
        "colab": {
          "base_uri": "https://localhost:8080/"
        },
        "id": "HGwX1qvw50Yc",
        "outputId": "5664876e-df72-4a30-dd93-4cbd58b90d85"
      },
      "source": [
        "hand2.play()\n",
        "hand2"
      ],
      "execution_count": null,
      "outputs": [
        {
          "output_type": "execute_result",
          "data": {
            "text/plain": [
              "<__main__.Hand at 0x7fcf82b01e50>"
            ]
          },
          "metadata": {},
          "execution_count": 15
        }
      ]
    },
    {
      "cell_type": "code",
      "metadata": {
        "colab": {
          "base_uri": "https://localhost:8080/"
        },
        "id": "37PTY9RZ7C-p",
        "outputId": "67dee5a5-58df-4052-d2f1-789edea80898"
      },
      "source": [
        "hand1"
      ],
      "execution_count": null,
      "outputs": [
        {
          "output_type": "execute_result",
          "data": {
            "text/plain": [
              "♠A|♠K|♠Q|♠J|♠4"
            ]
          },
          "metadata": {},
          "execution_count": 38
        }
      ]
    }
  ]
}