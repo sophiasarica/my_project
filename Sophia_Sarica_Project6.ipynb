{
  "nbformat": 4,
  "nbformat_minor": 0,
  "metadata": {
    "colab": {
      "name": "Sophia_Sarica_Project6.ipynb",
      "provenance": [],
      "include_colab_link": true
    },
    "kernelspec": {
      "name": "python3",
      "display_name": "Python 3"
    },
    "language_info": {
      "name": "python"
    }
  },
  "cells": [
    {
      "cell_type": "markdown",
      "metadata": {
        "id": "view-in-github",
        "colab_type": "text"
      },
      "source": [
        "<a href=\"https://colab.research.google.com/github/sophiasarica/my_project/blob/main/Sophia_Sarica_Project6.ipynb\" target=\"_parent\"><img src=\"https://colab.research.google.com/assets/colab-badge.svg\" alt=\"Open In Colab\"/></a>"
      ]
    },
    {
      "cell_type": "markdown",
      "source": [
        "## Data Cleaning Project by Vehicle Make and Model <a id=\"4\"></a>\n",
        "\n"
      ],
      "metadata": {
        "id": "bai4qD47yH0A"
      }
    },
    {
      "cell_type": "markdown",
      "source": [
        "**DataSets**\n",
        "\n",
        "[Vehicle Crashes](https://opendata.maryland.gov/Public-Safety/Maryland-Statewide-Vehicle-Crashes/65du-s3qu)\n",
        "\n",
        "[Personal Details](https://opendata.maryland.gov/Public-Safety/Maryland-Statewide-Vehicle-Crashes-Person-Details-/py4c-dicf)\n",
        "\n",
        "[Vehicle Details](https://opendata.maryland.gov/Public-Safety/Maryland-Statewide-Vehicle-Crashes-Vehicle-Details/mhft-5t5y)"
      ],
      "metadata": {
        "id": "Qb2d9FyY2-r7"
      }
    },
    {
      "cell_type": "markdown",
      "source": [
        "\n",
        "**Importing  'Vehichle Details' DataSet**\n",
        "\n",
        "\n"
      ],
      "metadata": {
        "id": "eiREhnvK0-oD"
      }
    },
    {
      "cell_type": "code",
      "execution_count": null,
      "metadata": {
        "id": "cTldLiaQVi8s"
      },
      "outputs": [],
      "source": [
        "# import pyplot interface of matplotlib\n",
        "import matplotlib.pyplot as plt\n",
        "\n",
        "%matplotlib inline\n"
      ]
    },
    {
      "cell_type": "code",
      "source": [
        "import pandas as pd\n",
        "\n",
        "## read_csv file \n",
        "#df = pd.read_csv(\"/content/mhft-5t5y.csv\")\n",
        "df = pd.read_csv('https://opendata.maryland.gov/resource/mhft-5t5y.csv?$limit=800000', low_memory=False)\n",
        "\n",
        "#df.head()"
      ],
      "metadata": {
        "id": "m2kQdqK_V2N9"
      },
      "execution_count": null,
      "outputs": []
    },
    {
      "cell_type": "code",
      "source": [
        "df.head()"
      ],
      "metadata": {
        "colab": {
          "base_uri": "https://localhost:8080/",
          "height": 513
        },
        "id": "se0yTjSf4l7G",
        "outputId": "08555f77-5315-4319-84cc-fa541b315acd"
      },
      "execution_count": null,
      "outputs": [
        {
          "output_type": "execute_result",
          "data": {
            "text/html": [
              "\n",
              "  <div id=\"df-061fa576-bbdd-4a02-a545-9561920ddcb1\">\n",
              "    <div class=\"colab-df-container\">\n",
              "      <div>\n",
              "<style scoped>\n",
              "    .dataframe tbody tr th:only-of-type {\n",
              "        vertical-align: middle;\n",
              "    }\n",
              "\n",
              "    .dataframe tbody tr th {\n",
              "        vertical-align: top;\n",
              "    }\n",
              "\n",
              "    .dataframe thead th {\n",
              "        text-align: right;\n",
              "    }\n",
              "</style>\n",
              "<table border=\"1\" class=\"dataframe\">\n",
              "  <thead>\n",
              "    <tr style=\"text-align: right;\">\n",
              "      <th></th>\n",
              "      <th>harm_event_desc</th>\n",
              "      <th>harm_event_code</th>\n",
              "      <th>conti_direction_desc</th>\n",
              "      <th>conti_direction_code</th>\n",
              "      <th>damage_desc</th>\n",
              "      <th>damage_code</th>\n",
              "      <th>movement_desc</th>\n",
              "      <th>movement_code</th>\n",
              "      <th>vin_no</th>\n",
              "      <th>report_no</th>\n",
              "      <th>cv_body_type_desc</th>\n",
              "      <th>cv_body_type_code</th>\n",
              "      <th>veh_year</th>\n",
              "      <th>veh_make</th>\n",
              "      <th>veh_model</th>\n",
              "      <th>commercial_flag_desc</th>\n",
              "      <th>commercial_flag</th>\n",
              "      <th>hzm_num</th>\n",
              "      <th>towed_away_flag_desc</th>\n",
              "      <th>towed_away_flag</th>\n",
              "      <th>num_axles</th>\n",
              "      <th>gvw_desc</th>\n",
              "      <th>gvw_code</th>\n",
              "      <th>going_direction_desc</th>\n",
              "      <th>going_direction_code</th>\n",
              "      <th>body_type_desc</th>\n",
              "      <th>body_type_code</th>\n",
              "      <th>driverless_flag_desc</th>\n",
              "      <th>driverless_flag</th>\n",
              "      <th>fire_flag_desc</th>\n",
              "      <th>fire_flag</th>\n",
              "      <th>parked_flag_desc</th>\n",
              "      <th>parked_flag</th>\n",
              "      <th>speed_limit</th>\n",
              "      <th>hit_and_run_flag_desc</th>\n",
              "      <th>hit_and_run_flag</th>\n",
              "      <th>hazmat_spill_flag_desc</th>\n",
              "      <th>hazmat_spill_flag</th>\n",
              "      <th>vehicle_id</th>\n",
              "      <th>towed_vehicle_config_desc</th>\n",
              "      <th>towed_vehicle_config_code</th>\n",
              "      <th>area_damaged_code_imp1</th>\n",
              "      <th>area_damaged_code1</th>\n",
              "      <th>area_damaged_code2</th>\n",
              "      <th>area_damaged_code3</th>\n",
              "      <th>area_damaged_code_main_desc</th>\n",
              "      <th>area_damaged_code_main</th>\n",
              "      <th>year</th>\n",
              "      <th>quarter</th>\n",
              "    </tr>\n",
              "  </thead>\n",
              "  <tbody>\n",
              "    <tr>\n",
              "      <th>0</th>\n",
              "      <td>Other Vehicle</td>\n",
              "      <td>1.0</td>\n",
              "      <td>North</td>\n",
              "      <td>N</td>\n",
              "      <td>Unknown</td>\n",
              "      <td>99</td>\n",
              "      <td>Unknown</td>\n",
              "      <td>99.0</td>\n",
              "      <td>NaN</td>\n",
              "      <td>AE5057004X</td>\n",
              "      <td>NaN</td>\n",
              "      <td>NaN</td>\n",
              "      <td>NaN</td>\n",
              "      <td>UNKNOWN</td>\n",
              "      <td>UNKNOWN</td>\n",
              "      <td>No</td>\n",
              "      <td>N</td>\n",
              "      <td>NaN</td>\n",
              "      <td>No</td>\n",
              "      <td>N</td>\n",
              "      <td>NaN</td>\n",
              "      <td>NaN</td>\n",
              "      <td>NaN</td>\n",
              "      <td>North</td>\n",
              "      <td>N</td>\n",
              "      <td>NaN</td>\n",
              "      <td>NaN</td>\n",
              "      <td>NaN</td>\n",
              "      <td>U</td>\n",
              "      <td>No</td>\n",
              "      <td>N</td>\n",
              "      <td>No</td>\n",
              "      <td>N</td>\n",
              "      <td>25</td>\n",
              "      <td>Yes</td>\n",
              "      <td>Y</td>\n",
              "      <td>NaN</td>\n",
              "      <td>NaN</td>\n",
              "      <td>47e2531d-8c69-470c-9198-502a46c7639e</td>\n",
              "      <td>Unknown</td>\n",
              "      <td>99</td>\n",
              "      <td>11.0</td>\n",
              "      <td>10.0</td>\n",
              "      <td>11.0</td>\n",
              "      <td>12.0</td>\n",
              "      <td>Eleven o'clock</td>\n",
              "      <td>11.0</td>\n",
              "      <td>2020</td>\n",
              "      <td>Q2</td>\n",
              "    </tr>\n",
              "    <tr>\n",
              "      <th>1</th>\n",
              "      <td>Other Vehicle</td>\n",
              "      <td>1.0</td>\n",
              "      <td>North</td>\n",
              "      <td>N</td>\n",
              "      <td>Superficial</td>\n",
              "      <td>2</td>\n",
              "      <td>Moving Constant Speed</td>\n",
              "      <td>1.0</td>\n",
              "      <td>NMTKHMBX0JR025092</td>\n",
              "      <td>MSP7221001P</td>\n",
              "      <td>NaN</td>\n",
              "      <td>NaN</td>\n",
              "      <td>2018.0</td>\n",
              "      <td>TOYOTA</td>\n",
              "      <td>CAMRY</td>\n",
              "      <td>No</td>\n",
              "      <td>N</td>\n",
              "      <td>NaN</td>\n",
              "      <td>No</td>\n",
              "      <td>N</td>\n",
              "      <td>NaN</td>\n",
              "      <td>NaN</td>\n",
              "      <td>NaN</td>\n",
              "      <td>North</td>\n",
              "      <td>N</td>\n",
              "      <td>Passenger Car</td>\n",
              "      <td>2.00</td>\n",
              "      <td>No</td>\n",
              "      <td>N</td>\n",
              "      <td>No</td>\n",
              "      <td>N</td>\n",
              "      <td>No</td>\n",
              "      <td>N</td>\n",
              "      <td>55</td>\n",
              "      <td>No</td>\n",
              "      <td>N</td>\n",
              "      <td>NaN</td>\n",
              "      <td>NaN</td>\n",
              "      <td>0dbd4a00-c7f2-4c34-b543-c2633fe0118f</td>\n",
              "      <td>Not Applicable</td>\n",
              "      <td>0</td>\n",
              "      <td>12.0</td>\n",
              "      <td>6.0</td>\n",
              "      <td>12.0</td>\n",
              "      <td>NaN</td>\n",
              "      <td>Twelve o'clock</td>\n",
              "      <td>12.0</td>\n",
              "      <td>2020</td>\n",
              "      <td>Q2</td>\n",
              "    </tr>\n",
              "    <tr>\n",
              "      <th>2</th>\n",
              "      <td>Other Vehicle</td>\n",
              "      <td>1.0</td>\n",
              "      <td>South</td>\n",
              "      <td>S</td>\n",
              "      <td>Functional</td>\n",
              "      <td>3</td>\n",
              "      <td>Stopped in Traffic Lane</td>\n",
              "      <td>6.0</td>\n",
              "      <td>2GNAXPEX5K6103012</td>\n",
              "      <td>DA37010040</td>\n",
              "      <td>NaN</td>\n",
              "      <td>NaN</td>\n",
              "      <td>2019.0</td>\n",
              "      <td>CHEVROLET</td>\n",
              "      <td>EQUINOX</td>\n",
              "      <td>No</td>\n",
              "      <td>N</td>\n",
              "      <td>NaN</td>\n",
              "      <td>No</td>\n",
              "      <td>N</td>\n",
              "      <td>NaN</td>\n",
              "      <td>NaN</td>\n",
              "      <td>NaN</td>\n",
              "      <td>South</td>\n",
              "      <td>S</td>\n",
              "      <td>(Sport) Utility Vehicle</td>\n",
              "      <td>23.08</td>\n",
              "      <td>No</td>\n",
              "      <td>N</td>\n",
              "      <td>No</td>\n",
              "      <td>N</td>\n",
              "      <td>No</td>\n",
              "      <td>N</td>\n",
              "      <td>30</td>\n",
              "      <td>No</td>\n",
              "      <td>N</td>\n",
              "      <td>NaN</td>\n",
              "      <td>NaN</td>\n",
              "      <td>f2c0d05c-ff70-4549-9d48-57c182eae6f2</td>\n",
              "      <td>Not Applicable</td>\n",
              "      <td>0</td>\n",
              "      <td>6.0</td>\n",
              "      <td>6.0</td>\n",
              "      <td>NaN</td>\n",
              "      <td>NaN</td>\n",
              "      <td>Six o'clock</td>\n",
              "      <td>6.0</td>\n",
              "      <td>2020</td>\n",
              "      <td>Q2</td>\n",
              "    </tr>\n",
              "    <tr>\n",
              "      <th>3</th>\n",
              "      <td>Fixed Object</td>\n",
              "      <td>9.0</td>\n",
              "      <td>Unknown</td>\n",
              "      <td>U</td>\n",
              "      <td>Unknown</td>\n",
              "      <td>99</td>\n",
              "      <td>Not Applicable</td>\n",
              "      <td>0.0</td>\n",
              "      <td>NaN</td>\n",
              "      <td>MDTA1791002C</td>\n",
              "      <td>NaN</td>\n",
              "      <td>NaN</td>\n",
              "      <td>NaN</td>\n",
              "      <td>UNKNOWN</td>\n",
              "      <td>UNKNOWN</td>\n",
              "      <td>No</td>\n",
              "      <td>N</td>\n",
              "      <td>NaN</td>\n",
              "      <td>No</td>\n",
              "      <td>N</td>\n",
              "      <td>NaN</td>\n",
              "      <td>NaN</td>\n",
              "      <td>NaN</td>\n",
              "      <td>Unknown</td>\n",
              "      <td>U</td>\n",
              "      <td>NaN</td>\n",
              "      <td>NaN</td>\n",
              "      <td>No</td>\n",
              "      <td>N</td>\n",
              "      <td>No</td>\n",
              "      <td>N</td>\n",
              "      <td>No</td>\n",
              "      <td>N</td>\n",
              "      <td>35</td>\n",
              "      <td>Yes</td>\n",
              "      <td>Y</td>\n",
              "      <td>NaN</td>\n",
              "      <td>NaN</td>\n",
              "      <td>5a55c4ee-17e9-4eed-bfe9-f5aca18f5b9e</td>\n",
              "      <td>Not Applicable</td>\n",
              "      <td>0</td>\n",
              "      <td>99.0</td>\n",
              "      <td>99.0</td>\n",
              "      <td>NaN</td>\n",
              "      <td>NaN</td>\n",
              "      <td>Unknown</td>\n",
              "      <td>99.0</td>\n",
              "      <td>2020</td>\n",
              "      <td>Q2</td>\n",
              "    </tr>\n",
              "    <tr>\n",
              "      <th>4</th>\n",
              "      <td>Other Vehicle</td>\n",
              "      <td>1.0</td>\n",
              "      <td>East</td>\n",
              "      <td>E</td>\n",
              "      <td>Disabling</td>\n",
              "      <td>4</td>\n",
              "      <td>Slowing or Stopping</td>\n",
              "      <td>3.0</td>\n",
              "      <td>5FNRL18672B048550</td>\n",
              "      <td>AE456100BL</td>\n",
              "      <td>NaN</td>\n",
              "      <td>NaN</td>\n",
              "      <td>2002.0</td>\n",
              "      <td>HONDA</td>\n",
              "      <td>VAN</td>\n",
              "      <td>No</td>\n",
              "      <td>N</td>\n",
              "      <td>NaN</td>\n",
              "      <td>Yes</td>\n",
              "      <td>Y</td>\n",
              "      <td>NaN</td>\n",
              "      <td>NaN</td>\n",
              "      <td>NaN</td>\n",
              "      <td>East</td>\n",
              "      <td>E</td>\n",
              "      <td>Passenger Car</td>\n",
              "      <td>2.00</td>\n",
              "      <td>No</td>\n",
              "      <td>N</td>\n",
              "      <td>No</td>\n",
              "      <td>N</td>\n",
              "      <td>No</td>\n",
              "      <td>N</td>\n",
              "      <td>35</td>\n",
              "      <td>No</td>\n",
              "      <td>N</td>\n",
              "      <td>NaN</td>\n",
              "      <td>NaN</td>\n",
              "      <td>23d968b0-be0e-4810-b6f0-34ef33fd7112</td>\n",
              "      <td>Not Applicable</td>\n",
              "      <td>0</td>\n",
              "      <td>6.0</td>\n",
              "      <td>6.0</td>\n",
              "      <td>12.0</td>\n",
              "      <td>NaN</td>\n",
              "      <td>Six o'clock</td>\n",
              "      <td>6.0</td>\n",
              "      <td>2020</td>\n",
              "      <td>Q2</td>\n",
              "    </tr>\n",
              "  </tbody>\n",
              "</table>\n",
              "</div>\n",
              "      <button class=\"colab-df-convert\" onclick=\"convertToInteractive('df-061fa576-bbdd-4a02-a545-9561920ddcb1')\"\n",
              "              title=\"Convert this dataframe to an interactive table.\"\n",
              "              style=\"display:none;\">\n",
              "        \n",
              "  <svg xmlns=\"http://www.w3.org/2000/svg\" height=\"24px\"viewBox=\"0 0 24 24\"\n",
              "       width=\"24px\">\n",
              "    <path d=\"M0 0h24v24H0V0z\" fill=\"none\"/>\n",
              "    <path d=\"M18.56 5.44l.94 2.06.94-2.06 2.06-.94-2.06-.94-.94-2.06-.94 2.06-2.06.94zm-11 1L8.5 8.5l.94-2.06 2.06-.94-2.06-.94L8.5 2.5l-.94 2.06-2.06.94zm10 10l.94 2.06.94-2.06 2.06-.94-2.06-.94-.94-2.06-.94 2.06-2.06.94z\"/><path d=\"M17.41 7.96l-1.37-1.37c-.4-.4-.92-.59-1.43-.59-.52 0-1.04.2-1.43.59L10.3 9.45l-7.72 7.72c-.78.78-.78 2.05 0 2.83L4 21.41c.39.39.9.59 1.41.59.51 0 1.02-.2 1.41-.59l7.78-7.78 2.81-2.81c.8-.78.8-2.07 0-2.86zM5.41 20L4 18.59l7.72-7.72 1.47 1.35L5.41 20z\"/>\n",
              "  </svg>\n",
              "      </button>\n",
              "      \n",
              "  <style>\n",
              "    .colab-df-container {\n",
              "      display:flex;\n",
              "      flex-wrap:wrap;\n",
              "      gap: 12px;\n",
              "    }\n",
              "\n",
              "    .colab-df-convert {\n",
              "      background-color: #E8F0FE;\n",
              "      border: none;\n",
              "      border-radius: 50%;\n",
              "      cursor: pointer;\n",
              "      display: none;\n",
              "      fill: #1967D2;\n",
              "      height: 32px;\n",
              "      padding: 0 0 0 0;\n",
              "      width: 32px;\n",
              "    }\n",
              "\n",
              "    .colab-df-convert:hover {\n",
              "      background-color: #E2EBFA;\n",
              "      box-shadow: 0px 1px 2px rgba(60, 64, 67, 0.3), 0px 1px 3px 1px rgba(60, 64, 67, 0.15);\n",
              "      fill: #174EA6;\n",
              "    }\n",
              "\n",
              "    [theme=dark] .colab-df-convert {\n",
              "      background-color: #3B4455;\n",
              "      fill: #D2E3FC;\n",
              "    }\n",
              "\n",
              "    [theme=dark] .colab-df-convert:hover {\n",
              "      background-color: #434B5C;\n",
              "      box-shadow: 0px 1px 3px 1px rgba(0, 0, 0, 0.15);\n",
              "      filter: drop-shadow(0px 1px 2px rgba(0, 0, 0, 0.3));\n",
              "      fill: #FFFFFF;\n",
              "    }\n",
              "  </style>\n",
              "\n",
              "      <script>\n",
              "        const buttonEl =\n",
              "          document.querySelector('#df-061fa576-bbdd-4a02-a545-9561920ddcb1 button.colab-df-convert');\n",
              "        buttonEl.style.display =\n",
              "          google.colab.kernel.accessAllowed ? 'block' : 'none';\n",
              "\n",
              "        async function convertToInteractive(key) {\n",
              "          const element = document.querySelector('#df-061fa576-bbdd-4a02-a545-9561920ddcb1');\n",
              "          const dataTable =\n",
              "            await google.colab.kernel.invokeFunction('convertToInteractive',\n",
              "                                                     [key], {});\n",
              "          if (!dataTable) return;\n",
              "\n",
              "          const docLinkHtml = 'Like what you see? Visit the ' +\n",
              "            '<a target=\"_blank\" href=https://colab.research.google.com/notebooks/data_table.ipynb>data table notebook</a>'\n",
              "            + ' to learn more about interactive tables.';\n",
              "          element.innerHTML = '';\n",
              "          dataTable['output_type'] = 'display_data';\n",
              "          await google.colab.output.renderOutput(dataTable, element);\n",
              "          const docLink = document.createElement('div');\n",
              "          docLink.innerHTML = docLinkHtml;\n",
              "          element.appendChild(docLink);\n",
              "        }\n",
              "      </script>\n",
              "    </div>\n",
              "  </div>\n",
              "  "
            ],
            "text/plain": [
              "  harm_event_desc  harm_event_code  ...  year quarter\n",
              "0   Other Vehicle              1.0  ...  2020      Q2\n",
              "1   Other Vehicle              1.0  ...  2020      Q2\n",
              "2   Other Vehicle              1.0  ...  2020      Q2\n",
              "3    Fixed Object              9.0  ...  2020      Q2\n",
              "4   Other Vehicle              1.0  ...  2020      Q2\n",
              "\n",
              "[5 rows x 49 columns]"
            ]
          },
          "metadata": {},
          "execution_count": 3
        }
      ]
    },
    {
      "cell_type": "code",
      "source": [
        "pd.set_option('display.max_rows', 9999)\n"
      ],
      "metadata": {
        "id": "EC8qn1y9V5gk"
      },
      "execution_count": null,
      "outputs": []
    },
    {
      "cell_type": "code",
      "source": [
        "df['veh_make'][:50]"
      ],
      "metadata": {
        "colab": {
          "base_uri": "https://localhost:8080/"
        },
        "id": "I4h2z2fF8zfq",
        "outputId": "eca9fc2b-56c5-424d-ff91-bd03fa4e78ef"
      },
      "execution_count": null,
      "outputs": [
        {
          "output_type": "execute_result",
          "data": {
            "text/plain": [
              "0        UNKNOWN\n",
              "1         TOYOTA\n",
              "2      CHEVROLET\n",
              "3        UNKNOWN\n",
              "4          HONDA\n",
              "5           FORD\n",
              "6           HOND\n",
              "7          VOLVO\n",
              "8          HONDA\n",
              "9           MAZD\n",
              "10      NEWFLYER\n",
              "11          TOYT\n",
              "12         MAZDA\n",
              "13    MITSUBISHI\n",
              "14         HONDA\n",
              "15        TOYOTA\n",
              "16        NISSAN\n",
              "17          FORD\n",
              "18           KIA\n",
              "19         CHEVY\n",
              "20          SUZI\n",
              "21          FORD\n",
              "22          FORD\n",
              "23       UNKNOWN\n",
              "24          PIRC\n",
              "25    VOLKSWAGON\n",
              "26         HONDA\n",
              "27        TOYOTA\n",
              "28        NISSAN\n",
              "29        TOYOTA\n",
              "30        YAMAHA\n",
              "31       HYUNDAI\n",
              "32     CHEVROLET\n",
              "33         CHEVY\n",
              "34        TOYOTA\n",
              "35          MERZ\n",
              "36        NISSAN\n",
              "37       HYUNDAI\n",
              "38        NISSAN\n",
              "39          CADI\n",
              "40     CHEVROLET\n",
              "41         HONDA\n",
              "42          PTRB\n",
              "43          HOND\n",
              "44          ACUR\n",
              "45        SUBARU\n",
              "46         DODGE\n",
              "47          JEEP\n",
              "48         BUICK\n",
              "49          CADI\n",
              "Name: veh_make, dtype: object"
            ]
          },
          "metadata": {},
          "execution_count": 4
        }
      ]
    },
    {
      "cell_type": "code",
      "source": [
        "#df.columns"
      ],
      "metadata": {
        "id": "46J96PiUV9nc"
      },
      "execution_count": null,
      "outputs": []
    },
    {
      "cell_type": "markdown",
      "source": [
        "# Cleaning Datasets <a id=\"0\"></a>\n"
      ],
      "metadata": {
        "id": "HpWXLL727Jbj"
      }
    },
    {
      "cell_type": "code",
      "source": [
        "# Clubbing repeating Car Manufacturers into 1 value for each manufacturer\n",
        "\n",
        "makes = {\"ACURA\",\n",
        " \"ALLIS CHALMERS\",\n",
        " \"ALPHA ROMEO\",\n",
        " \"AMC\",\n",
        " \"AUDI\",\n",
        " \"BMW\",\n",
        " \"BRIGGS & STRATTON\",\n",
        " \"BUICK\",\n",
        " \"CADILLAC\",\n",
        " \"CATERPILLAR\",\n",
        " \"CHEVROLET\",\n",
        " \"CHRYSLER\",\n",
        " \"CONTINENTAL\",\n",
        " \"CUMMINS\",\n",
        " \"DETROIT DIESEL\",\n",
        " \"DEUTZ\",\n",
        " \"DODGE\",\n",
        " \"FIAT\",\n",
        " \"FORD\",\n",
        " \"GEO\",\n",
        " \"GMC\",\n",
        " \"HENSHEL\",\n",
        " \"HERCULES\",\n",
        " \"HINO\",\n",
        " \"HONDA\",\n",
        " \"HUNMER\",\n",
        " \"HYUNDAI\",\n",
        " \"INFINITY\",\n",
        " \"INTERNATIONAL\",\n",
        " \"ISUZU\",\n",
        " \"IVECO-FIAT\",\n",
        " \"JAGUAR\",\n",
        " \"JEEP\",\n",
        " \"JOHN DEERE\",\n",
        " \"KIA\",\n",
        " \"KOHLER\",\n",
        " \"KOMATSU\",\n",
        " \"KUBOTA\",\n",
        " \"LAND ROVER\",\n",
        " \"LEXUS\",\n",
        " \"LINCOLN\",\n",
        " \"LISTER PETTER\",\n",
        " \"MACK\",\n",
        " \"MAZDA\",\n",
        " \"MERCEDES\",\n",
        " \"MERCURY\",\n",
        " \"MINI COOPER\",\n",
        " \"MITSUBISHI\",\n",
        " \"NISSAN\",\n",
        " \"OLDSMOBILE\",\n",
        " \"ONAN\",\n",
        " \"PERKINS\",\n",
        " \"PEUGEOT\",\n",
        " \"PLYMOUTH\",\n",
        " \"PONTIAC\",\n",
        " \"PORSCHE\",\n",
        " \"RENAULT\",\n",
        " \"SAAB\",\n",
        " \"SATURN\",\n",
        " \"SCANIA\",\n",
        " \"SCION\",\n",
        " \"SUBARU\",\n",
        " \"SUZUKI\",\n",
        " \"TESLA\",\n",
        " \"TOYOTA\",\n",
        " \"VOLKSWAGEN\",\n",
        " \"VOLVO\",\n",
        " \"WISCONSIN\",\n",
        " \"YANMER-MARINE\"}"
      ],
      "metadata": {
        "id": "M_W2pB3PV9hm"
      },
      "execution_count": null,
      "outputs": []
    },
    {
      "cell_type": "code",
      "source": [
        "#https://stackoverflow.com/questions/17388213/find-the-similarity-metric-between-two-strings\n",
        "from difflib import SequenceMatcher\n",
        "\n",
        "def similar(a, b):\n",
        "    return SequenceMatcher(None, a.upper(), b.upper()).ratio()\n",
        "\n",
        "# similar('volk1', 'VOLKSWAGEN')"
      ],
      "metadata": {
        "id": "FgLnKWCTWL2G"
      },
      "execution_count": null,
      "outputs": []
    },
    {
      "cell_type": "code",
      "source": [
        " #https://stackoverflow.com/questions/7331462/check-if-a-string-is-a-possible-abbrevation-for-a-name\n",
        "import re    \n",
        "def is_abbrev(abbrev, text):\n",
        "    try:\n",
        "      pattern = \".*\".join(abbrev.upper())\n",
        "      return re.match(\"^\" + pattern, text.upper()) is not None\n",
        "    except:\n",
        "      print(abbrev, text)\n",
        "      raise Exception('error')\n",
        "\n",
        "# is_abbrev('inf', 'INFINITI')"
      ],
      "metadata": {
        "id": "rR9F3Ji4WQAM"
      },
      "execution_count": null,
      "outputs": []
    },
    {
      "cell_type": "code",
      "source": [
        "import re\n",
        "def clean_string(word):\n",
        "  return re.sub('[^A-Za-z0-9]+', '', word).upper()\n",
        "\n",
        "#clean_string('JEE[')"
      ],
      "metadata": {
        "id": "K3FCZEw8WUTm"
      },
      "execution_count": null,
      "outputs": []
    },
    {
      "cell_type": "code",
      "source": [
        "def get_correct_make(value):\n",
        "  if type(value) != str:\n",
        "    return None\n",
        "\n",
        "  value = clean_string(value)\n",
        "  if value in makes:\n",
        "    return value\n",
        "\n",
        "  for make in makes:\n",
        "    if is_abbrev(value, make) == True:\n",
        "      return make\n",
        "\n",
        "  for make in makes:\n",
        "    if similar(value, make) >= 0.6 :\n",
        "      return make\n",
        "\n",
        "  return None\n",
        "\n",
        "# get_correct_make('tyt')"
      ],
      "metadata": {
        "id": "E10aFl0rWYbq"
      },
      "execution_count": null,
      "outputs": []
    },
    {
      "cell_type": "code",
      "source": [
        "corrections = {\n",
        "    'CHEVY': 'CHEVROLET'\n",
        "}\n",
        "\n",
        "for make in set(df['veh_make']):\n",
        "  correct_brand = get_correct_make(make)\n",
        "  corrections[make] = correct_brand"
      ],
      "metadata": {
        "id": "2FRbl_heWcCw"
      },
      "execution_count": null,
      "outputs": []
    },
    {
      "cell_type": "code",
      "source": [
        " #corrections"
      ],
      "metadata": {
        "id": "IASBSvi_WfA6"
      },
      "execution_count": null,
      "outputs": []
    },
    {
      "cell_type": "code",
      "source": [
        "def get_correct_value(value):\n",
        "  if value not in corrections:\n",
        "    return None\n",
        "  # print(value, type(value))\n",
        "  return corrections[value]"
      ],
      "metadata": {
        "id": "S6iHi0krWiUR"
      },
      "execution_count": null,
      "outputs": []
    },
    {
      "cell_type": "code",
      "source": [
        "df['VEH_MAKE_CLEAN'] = [ get_correct_value(x) for x in df['veh_make']]"
      ],
      "metadata": {
        "id": "7-JznIlbWk7o"
      },
      "execution_count": null,
      "outputs": []
    },
    {
      "cell_type": "code",
      "source": [
        "\n",
        "df['VEH_MAKE_CLEAN'].value_counts()[:30].plot(kind='bar')\n",
        "plt.title('Top 30 Car Brands')\n",
        "plt.ylabel(\"Number of Accidents\")\n",
        "plt.show()"
      ],
      "metadata": {
        "colab": {
          "base_uri": "https://localhost:8080/",
          "height": 351
        },
        "id": "B2fSOtO2Wnlv",
        "outputId": "20b30e2d-ef99-4774-d5e7-ab690a893d4e"
      },
      "execution_count": null,
      "outputs": [
        {
          "output_type": "display_data",
          "data": {
            "image/png": "[encoded data removed]",
            "text/plain": [
              "<Figure size 432x288 with 1 Axes>"
            ]
          },
          "metadata": {
            "needs_background": "light"
          }
        }
      ]
    },
    {
      "cell_type": "markdown",
      "source": [
        "We can see that Toyota and Ford cars have the highest number of crashes followed by Honda, Nissan and Chevrolet"
      ],
      "metadata": {
        "id": "Iy6hSvmvXFYN"
      }
    },
    {
      "cell_type": "code",
      "source": [
        "df[df['VEH_MAKE_CLEAN']=='Unknown'][[ 'veh_make']].value_counts()"
      ],
      "metadata": {
        "colab": {
          "base_uri": "https://localhost:8080/"
        },
        "id": "P5XsSEbcWrCK",
        "outputId": "159dc5e0-d778-41ea-9fe2-437f5618ed63"
      },
      "execution_count": null,
      "outputs": [
        {
          "output_type": "execute_result",
          "data": {
            "text/plain": [
              "Series([], dtype: int64)"
            ]
          },
          "metadata": {},
          "execution_count": 15
        }
      ]
    },
    {
      "cell_type": "code",
      "source": [
        "df['VEH_MAKE_CLEAN'].value_counts()"
      ],
      "metadata": {
        "colab": {
          "base_uri": "https://localhost:8080/"
        },
        "id": "7gbn5K53Wvro",
        "outputId": "7c80f385-5f4f-4beb-8035-05916efd55e9"
      },
      "execution_count": null,
      "outputs": [
        {
          "output_type": "execute_result",
          "data": {
            "text/plain": [
              "TOYOTA               99146\n",
              "FORD                 98758\n",
              "HONDA                87782\n",
              "NISSAN               60192\n",
              "CHEVROLET            47034\n",
              "DODGE                35169\n",
              "HYUNDAI              32724\n",
              "JEEP                 20205\n",
              "ACURA                15705\n",
              "CHRYSLER             14309\n",
              "KIA                  14286\n",
              "VOLKSWAGEN           14283\n",
              "LEXUS                13000\n",
              "MAZDA                12920\n",
              "GMC                  12328\n",
              "BMW                  11229\n",
              "SUBARU               10531\n",
              "BUICK                 7601\n",
              "INFINITY              7224\n",
              "MERCEDES              6582\n",
              "CADILLAC              6085\n",
              "VOLVO                 5666\n",
              "MITSUBISHI            5440\n",
              "MERCURY               5341\n",
              "HUNMER                5313\n",
              "INTERNATIONAL         5205\n",
              "PONTIAC               5068\n",
              "LINCOLN               4767\n",
              "SATURN                4402\n",
              "AUDI                  4316\n",
              "SCION                 1972\n",
              "SUZUKI                1932\n",
              "MACK                  1912\n",
              "AMC                   1597\n",
              "ISUZU                 1371\n",
              "KOMATSU               1280\n",
              "LAND ROVER            1266\n",
              "OLDSMOBILE            1196\n",
              "MINI COOPER           1132\n",
              "JAGUAR                1063\n",
              "IVECO-FIAT            1030\n",
              "PORSCHE                624\n",
              "SAAB                   592\n",
              "HINO                   561\n",
              "PLYMOUTH               465\n",
              "FIAT                   459\n",
              "TESLA                  384\n",
              "ONAN                   204\n",
              "GEO                    201\n",
              "CATERPILLAR            165\n",
              "JOHN DEERE             124\n",
              "YANMER-MARINE          105\n",
              "SCANIA                  63\n",
              "KOHLER                  61\n",
              "KUBOTA                  37\n",
              "PERKINS                 26\n",
              "ALLIS CHALMERS          24\n",
              "PEUGEOT                 20\n",
              "ALPHA ROMEO             19\n",
              "BRIGGS & STRATTON       18\n",
              "CONTINENTAL             17\n",
              "CUMMINS                 15\n",
              "WISCONSIN                8\n",
              "DEUTZ                    6\n",
              "HENSHEL                  3\n",
              "RENAULT                  3\n",
              "LISTER PETTER            3\n",
              "HERCULES                 2\n",
              "DETROIT DIESEL           1\n",
              "Name: VEH_MAKE_CLEAN, dtype: int64"
            ]
          },
          "metadata": {},
          "execution_count": 16
        }
      ]
    },
    {
      "cell_type": "code",
      "source": [
        "df[['VEH_MAKE_CLEAN','veh_model']].value_counts()[:10].plot(kind='bar')\n"
      ],
      "metadata": {
        "colab": {
          "base_uri": "https://localhost:8080/",
          "height": 387
        },
        "id": "is5p0MXwWztT",
        "outputId": "d1a8ca5f-5a7d-48a6-bacd-88eab1d615b5"
      },
      "execution_count": null,
      "outputs": [
        {
          "output_type": "execute_result",
          "data": {
            "text/plain": [
              "<matplotlib.axes._subplots.AxesSubplot at 0x7f0a5257e250>"
            ]
          },
          "metadata": {},
          "execution_count": 17
        },
        {
          "output_type": "display_data",
          "data": {
            "image/png": "[encoded data removed]",
            "text/plain": [
              "<Figure size 432x288 with 1 Axes>"
            ]
          },
          "metadata": {
            "needs_background": "light"
          }
        }
      ]
    },
    {
      "cell_type": "code",
      "source": [
        "ax = (df['VEH_MAKE_CLEAN'] + ' ' + df['veh_model']).value_counts()[:10].plot(kind='barh' )\n",
        "ax.invert_yaxis()\n",
        "plt.title('Top 10 Car Models')\n",
        "plt.xlabel(\"Number of Accidents\")\n",
        "plt.show()\n"
      ],
      "metadata": {
        "colab": {
          "base_uri": "https://localhost:8080/",
          "height": 295
        },
        "id": "0O0ze6dQW7H6",
        "outputId": "bd73899a-a9de-4f40-f963-7b0e671c2e6a"
      },
      "execution_count": null,
      "outputs": [
        {
          "output_type": "display_data",
          "data": {
            "image/png": "[encoded data removed]",
            "text/plain": [
              "<Figure size 432x288 with 1 Axes>"
            ]
          },
          "metadata": {
            "needs_background": "light"
          }
        }
      ]
    },
    {
      "cell_type": "markdown",
      "source": [
        "Honda Accord tops the list of cars with most accidents followed by Toyota Camry and Honda Civic at the 2nd and 3nd places respectively."
      ],
      "metadata": {
        "id": "M4VzuttJXjr2"
      }
    },
    {
      "cell_type": "code",
      "source": [
        "#pd.options.display.max_rows\n"
      ],
      "metadata": {
        "id": "NwV3dV6RW8Al"
      },
      "execution_count": null,
      "outputs": []
    },
    {
      "cell_type": "code",
      "source": [
        "#df[['veh_year']].value_counts()\n"
      ],
      "metadata": {
        "id": "rBPA5_T6W_eI"
      },
      "execution_count": null,
      "outputs": []
    },
    {
      "cell_type": "code",
      "source": [
        "df_year = df['veh_year']\n",
        "df_year.dropna(inplace=True)\n",
        "df_year = df_year.astype(int)"
      ],
      "metadata": {
        "id": "75bsNx7Peqj3"
      },
      "execution_count": null,
      "outputs": []
    },
    {
      "cell_type": "code",
      "source": [
        "plt.figure(figsize=(14, 6), dpi=80)\n",
        "\n",
        "df_year_counts = df_year[(df_year > 1970) & (df_year < 2022)].value_counts()\n",
        "df_year_counts.sort_index(inplace=True)\n",
        "# df_year_counts.plot()\n",
        "plt.bar(df_year_counts.index, df_year_counts)\n",
        "plt.xticks(list(range(1970, 2022)), rotation=45)\n",
        "plt.title(\"Car Ages Between 1970-2021 vs Number of Traffic Accidents\")\n",
        "plt.ylabel(\"Number of Traffic Accidents\")\n",
        "plt.xlabel(\"Car Ages\")\n",
        "plt.show()"
      ],
      "metadata": {
        "id": "0EtUQyq0c3m3",
        "colab": {
          "base_uri": "https://localhost:8080/",
          "height": 461
        },
        "outputId": "6b3ec747-8224-4697-d206-00340d087da7"
      },
      "execution_count": null,
      "outputs": [
        {
          "output_type": "display_data",
          "data": {
            "image/png": "[encoded data removed]",
            "text/plain": [
              "<Figure size 1120x480 with 1 Axes>"
            ]
          },
          "metadata": {
            "needs_background": "light"
          }
        }
      ]
    },
    {
      "cell_type": "code",
      "source": [
        "crashes = pd.read_csv('https://opendata.maryland.gov/resource/65du-s3qu.csv?$limit=800000', low_memory=False)\n"
      ],
      "metadata": {
        "id": "0I2S0sJUKvTT"
      },
      "execution_count": null,
      "outputs": []
    },
    {
      "cell_type": "code",
      "source": [
        "df.columns"
      ],
      "metadata": {
        "colab": {
          "base_uri": "https://localhost:8080/"
        },
        "id": "1Ez5-ckbOBsp",
        "outputId": "76b6c90a-2ecb-497e-b0e8-da4a2bb0d663"
      },
      "execution_count": null,
      "outputs": [
        {
          "output_type": "execute_result",
          "data": {
            "text/plain": [
              "Index(['harm_event_desc', 'harm_event_code', 'conti_direction_desc',\n",
              "       'conti_direction_code', 'damage_desc', 'damage_code', 'movement_desc',\n",
              "       'movement_code', 'vin_no', 'report_no', 'cv_body_type_desc',\n",
              "       'cv_body_type_code', 'veh_year', 'veh_make', 'veh_model',\n",
              "       'commercial_flag_desc', 'commercial_flag', 'hzm_num',\n",
              "       'towed_away_flag_desc', 'towed_away_flag', 'num_axles', 'gvw_desc',\n",
              "       'gvw_code', 'going_direction_desc', 'going_direction_code',\n",
              "       'body_type_desc', 'body_type_code', 'driverless_flag_desc',\n",
              "       'driverless_flag', 'fire_flag_desc', 'fire_flag', 'parked_flag_desc',\n",
              "       'parked_flag', 'speed_limit', 'hit_and_run_flag_desc',\n",
              "       'hit_and_run_flag', 'hazmat_spill_flag_desc', 'hazmat_spill_flag',\n",
              "       'vehicle_id', 'towed_vehicle_config_desc', 'towed_vehicle_config_code',\n",
              "       'area_damaged_code_imp1', 'area_damaged_code1', 'area_damaged_code2',\n",
              "       'area_damaged_code3', 'area_damaged_code_main_desc',\n",
              "       'area_damaged_code_main', 'year', 'quarter', 'VEH_MAKE_CLEAN'],\n",
              "      dtype='object')"
            ]
          },
          "metadata": {},
          "execution_count": 23
        }
      ]
    },
    {
      "cell_type": "code",
      "source": [
        "df_merged = crashes.merge(df, on='report_no', how='left')"
      ],
      "metadata": {
        "id": "8OZEjyBPLXUs"
      },
      "execution_count": null,
      "outputs": []
    },
    {
      "cell_type": "code",
      "source": [
        "df_year = df_merged['veh_year']\n",
        "df_year.dropna(inplace=True)\n",
        "df_year = df_year.astype(int)\n",
        "\n",
        "plt.figure(figsize=(14, 6), dpi=80)\n",
        "\n",
        "df_year_counts = df_year[(df_year > 1970) & (df_year < 2022)].value_counts()\n",
        "df_year_counts.sort_index(inplace=True)\n",
        "# df_year_counts.plot()\n",
        "plt.bar(df_year_counts.index, df_year_counts)\n",
        "plt.xticks(list(range(1970, 2022)), rotation=45)\n",
        "plt.title(\"Car Ages Between 1970-2021 vs Number of Traffic Accidents\")\n",
        "\n",
        "plt.show()"
      ],
      "metadata": {
        "colab": {
          "base_uri": "https://localhost:8080/",
          "height": 446
        },
        "id": "mwGF2CkyOSer",
        "outputId": "6733ff5b-3ebf-4b62-e97b-dc9c02bb2014"
      },
      "execution_count": null,
      "outputs": [
        {
          "output_type": "display_data",
          "data": {
            "image/png": "[encoded data removed]",
            "text/plain": [
              "<Figure size 1120x480 with 1 Axes>"
            ]
          },
          "metadata": {
            "needs_background": "light"
          }
        }
      ]
    },
    {
      "cell_type": "markdown",
      "source": [
        "Biomodel Distribution; the dataset has two distinct peaks when the data contains two different populations."
      ],
      "metadata": {
        "id": "UkOlfRHTv9LL"
      }
    },
    {
      "cell_type": "code",
      "source": [
        "plt.figure(figsize=(14, 6), dpi=80)\n",
        "\n",
        "df_year_rt = df_merged[['veh_year', 'report_type']][(df_merged['veh_year'] > 1970) & (df_merged['veh_year'] < 2022)]\n",
        "df_year_rt.dropna(inplace=True)\n",
        "df_year_rt['veh_year'] = df_year_rt['veh_year'] .astype(int)\n",
        "\n",
        "df_year_rt.groupby(['report_type', 'veh_year']).size().unstack(level=0).plot(kind='bar', figsize=(14, 6), width=1.5)\n",
        "plt.xlabel(\"Car Ages \")\n",
        "plt.ylabel(\"Accidents Numbers\")\n",
        "plt.title(\"Car Ages Between 1970 - 2021 vs Number of Traffic Accidents\")\n",
        "plt.show()"
      ],
      "metadata": {
        "colab": {
          "base_uri": "https://localhost:8080/",
          "height": 437
        },
        "id": "-wqHvSitLBhI",
        "outputId": "bd6414ac-a1ac-476f-dcae-beca82e741d1"
      },
      "execution_count": null,
      "outputs": [
        {
          "output_type": "display_data",
          "data": {
            "text/plain": [
              "<Figure size 1120x480 with 0 Axes>"
            ]
          },
          "metadata": {}
        },
        {
          "output_type": "display_data",
          "data": {
            "image/png": "[encoded data removed]",
            "text/plain": [
              "<Figure size 1008x432 with 1 Axes>"
            ]
          },
          "metadata": {
            "needs_background": "light"
          }
        }
      ]
    },
    {
      "cell_type": "code",
      "source": [
        "plt.figure(figsize=(14, 6), dpi=80)\n",
        "\n",
        "df_year_rt = df_merged[['veh_year', 'report_type']][(df_merged['veh_year'] > 1970) & (df_merged['veh_year'] < 2022) & (df_merged['report_type'] == 'Fatal Crash')]\n",
        "df_year_rt.dropna(inplace=True)\n",
        "df_year_rt['veh_year'] = df_year_rt['veh_year'] .astype(int)\n",
        "plt.ylabel(\"Fatal Crashes\")\n",
        "#plt.xlabel(\"Car Ages\")\n",
        "df_year_rt.groupby('veh_year').size().plot(kind='bar', figsize=(14, 6), width=1.5)\n",
        "plt.title(\"Car Ages vs Fatal Crashes\")\n",
        "plt.xlabel(\"Car Ages\")\n",
        "plt.show()"
      ],
      "metadata": {
        "id": "v-HQCYYWLEW0",
        "colab": {
          "base_uri": "https://localhost:8080/",
          "height": 462
        },
        "outputId": "90bd493b-7e2b-4498-9ecd-936f46ef511c"
      },
      "execution_count": null,
      "outputs": [
        {
          "output_type": "display_data",
          "data": {
            "image/png": "[encoded data removed]",
            "text/plain": [
              "<Figure size 1120x480 with 1 Axes>"
            ]
          },
          "metadata": {
            "needs_background": "light"
          }
        }
      ]
    },
    {
      "cell_type": "markdown",
      "source": [
        "## What Did I learn \n",
        "I explored the vehicle details dataset and the crashes dataset to find answers the following questions?\n",
        "\n",
        "\n",
        "*   Which car brands & models are involved in crashes the most?\n",
        "\n",
        "*   Is there any correlation between cars' age and crashes?  \n",
        "\n",
        "\n",
        "Firstly, I started to work on the 'Veh_make' column. 'Veh_make' column represents cars' brand.  I noticed that there are various issues with the values, including different spellings for the same brand. So, I standardized the 'Veh_make' column, cleaned the invalid values, and made it ready for visualizations. When I  created the visualization for the first question, I discovered that Toyota is more involved in crashes than the other car brands. Also, Toyota and Ford are so close to each other, and as the data updated, the order of the car brands easily can change. During my study, sometimes I saw Ford is in the first place! However, this doesn't imply any causation, the Toyota, Ford, Honda are the most selling brands hence it's like to get involved in more accidents in terms of numbers. \n",
        "\n",
        "However, each brand has various models and graphs above doesn't give a clear picture about the specific modesl. I combined 'veh_make' and 'veh_models' columns to figure out the top 10 car models that involved in accidents. This time visualization shows us 'Honda Accord' is in the first place. I was expecting a Toyota or Ford model to be involved in the most crashes based on  the first visualization. My assumption was wrong!\n",
        "\n",
        "Finally, I wanted to see if there is any correlation between car age & number of accidents involved. Year column had many incorrect values so I filtered between 1970 and 2021 to focus on the valid years. When I visualized, the car year vs total number accidents, I observed that there are two peak points in our bimodal distribution. The peaks are around 2006 and 2015 for car ages. It doesn't seems there is a correlation between car age and the total number of accidents. \n",
        "\n",
        "However, Cars made in 2009 have a significantly low rate of accidents as compared to the cars made in years before and ahead of them. One hypothesis is that this could be due to the financial crisis of 2008. With people losing jobs and market falling, the purchasing power of the public had declined, leading to lesser cars made in 2009 being sold. This could be one of the reasons for the dip in number of crashes for cars of 2009 make.\n",
        "\n"
      ],
      "metadata": {
        "id": "zfxbjq_Sv46V"
      }
    }
  ]
}